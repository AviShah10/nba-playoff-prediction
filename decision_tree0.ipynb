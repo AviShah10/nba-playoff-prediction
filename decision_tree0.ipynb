{
 "cells": [
  {
   "cell_type": "code",
   "execution_count": 37,
   "metadata": {},
   "outputs": [],
   "source": [
    "import pandas as pd\n",
    "import numpy as np\n",
    "from sklearn.linear_model import LogisticRegression\n",
    "from sklearn import preprocessing\n",
    "from sklearn.preprocessing import StandardScaler\n",
    "from sklearn.model_selection import train_test_split\n",
    "from pathlib import Path\n",
    "from sklearn.ensemble import RandomForestClassifier\n",
    "from sklearn.tree import DecisionTreeClassifier\n",
    "from sklearn import tree\n",
    "from sklearn.model_selection import GridSearchCV"
   ]
  },
  {
   "cell_type": "code",
   "execution_count": 49,
   "metadata": {},
   "outputs": [],
   "source": [
    "##############################################################\n",
    "## READING IN TRAINING DATA THAT HAS BEEN PREVIOSLY CLEANED ##\n",
    "##############################################################\n",
    "\n",
    "# Creating two empty lists that are used to store the data that is read in.\n",
    "x_train_list = []\n",
    "y_train_list = []\n",
    "# Iterating through the data for all the years.\n",
    "for i in range(2000, 2021):\n",
    "    # We ignore the year of 2004, as there seems to me something wrong with the formatting of the data in out dataset.\n",
    "    if i != 2004:\n",
    "        # Assembling in the name of the file that contains the x data that needs to be trained.\n",
    "        file_name = \"season_stats/east\" + str(i) + \".csv\"\n",
    "        # Reading the x data from the filename created above.\n",
    "        df_x = pd.read_csv(file_name, index_col=0)\n",
    "        # Sorting the data according to the values in the TEAM column.\n",
    "        df_x = df_x.sort_values(\"TEAM\")\n",
    "        # Resetting the index of the data.\n",
    "        df_x = df_x.reset_index()\n",
    "        # Dropping the TEAM column in the data.\n",
    "        df_x = df_x.drop(\"TEAM\", axis=1)\n",
    "        # Dropping the extra index column in the data.\n",
    "        df_x = df_x.drop(\"index\", axis=1)\n",
    "        # Appending the current round of data to the overall list holding all the x data.\n",
    "        x_train_list.append(df_x)\n",
    "        # Assembling in the name of the file that contains the y data that needs to be trained.\n",
    "        file_name = \"playoff_labels/east\" + str(i) + \"playoff.csv\"\n",
    "        # Reading the y data from the filename created above.\n",
    "        df_y = pd.read_csv(file_name, index_col=0)\n",
    "        # Sorting the data according to the values in the TEAM column.\n",
    "        df_y = df_y.sort_values(\"TEAM\")\n",
    "        # Resetting the index of the data.\n",
    "        df_y = df_y.reset_index()\n",
    "        # Dropping the TEAM column in the data.\n",
    "        df_y = df_y.drop(\"TEAM\", axis=1)\n",
    "        # Dropping the extra index column in the data.\n",
    "        df_y = df_y.drop(\"index\", axis=1)\n",
    "        # Appending the current round of data to the overall list holding all the y data.\n",
    "        y_train_list.append(df_y)\n",
    "\n",
    "# Concatentating the list of x data to a dataframe to hold all the x data.\n",
    "x_train = pd.concat(x_train_list)\n",
    "x_train = x_train.drop(\"MATCHUP\", axis=1)\n",
    "# x_train = x_train.drop(\"WLPCT\", axis=1)\n",
    "# Concatentating the list of y data to a dataframe to hold all the y data.\n",
    "y_train = pd.concat(y_train_list)"
   ]
  },
  {
   "cell_type": "code",
   "execution_count": 50,
   "metadata": {},
   "outputs": [],
   "source": [
    "##############################\n",
    "## READING IN THE TEST DATA ##\n",
    "##############################\n",
    "\n",
    "# Assembling in the name of the file that contains the x data that needs to be tested against.\n",
    "x_test = pd.read_csv(\"season_stats/east2021.csv\", index_col=0)\n",
    "# Sorting the data according to the values in the TEAM column.\n",
    "x_test = x_test.sort_values(\"TEAM\")\n",
    "# Resetting the index of the data.\n",
    "x_test = x_test.reset_index()\n",
    "# Dropping the extra index column in the data.\n",
    "x_test = x_test.drop(\"index\", axis=1)\n",
    "x_test = x_test.drop(\"MATCHUP\", axis=1)\n",
    "# x_test = x_test.drop(\"WLPCT\", axis=1)\n",
    "# Assigning the test data to a variable that tells us that this is the prediction that should be made.\n",
    "x_test_prediction = x_test\n",
    "# Dropping the TEAM column in the data.\n",
    "x_test = x_test.drop(\"TEAM\", axis=1)\n",
    "# Assembling in the name of the file that contains the y data that needs to be tested against.\n",
    "y_test = pd.read_csv(\"playoff_labels/east2021playoff.csv\", index_col=0)\n",
    "# Sorting the data according to the values in the TEAM column.\n",
    "y_test = y_test.sort_values(\"TEAM\")\n",
    "# Resetting the index of the data.\n",
    "y_test = y_test.reset_index()\n",
    "# Dropping the extra index column in the data.\n",
    "y_test = y_test.drop(\"index\", axis=1)\n",
    "# Assigning the test data to a variable that tells us that this is the prediction that should be made.\n",
    "y_test_prediction = y_test\n",
    "# Dropping the TEAM column in the data.\n",
    "y_test = y_test.drop(\"TEAM\", axis=1)"
   ]
  },
  {
   "cell_type": "code",
   "execution_count": 51,
   "metadata": {},
   "outputs": [],
   "source": [
    "##############################\n",
    "## STANDARDIZING THE X DATA ##\n",
    "##############################\n",
    "# Creating a scaler object.\n",
    "sc = StandardScaler()\n",
    "# Scaling the x training data.\n",
    "x_train_scaled = sc.fit_transform(x_train)\n",
    "# Scaling the x test data.\n",
    "x_test_scaled = sc.transform(x_test)"
   ]
  },
  {
   "cell_type": "code",
   "execution_count": 52,
   "metadata": {},
   "outputs": [],
   "source": [
    "############################\n",
    "## NORMALIZING THE X DATA ##\n",
    "############################\n",
    "# Normalizing the x scaled training data.\n",
    "a = preprocessing.normalize(x_train_scaled, axis = 0)\n",
    "# Creating a new dataframe to hold the saled, normalized x training data.\n",
    "x_train_normalized = pd.DataFrame(a, columns = x_train.columns)\n",
    "# Normalizing the x scaled testing data.\n",
    "b = preprocessing.normalize(x_test_scaled, axis = 0)\n",
    "# Creating a new dataframe to hold the saled, normalized x testing data.\n",
    "x_test_normalized = pd. DataFrame (b, columns = x_test.columns)"
   ]
  },
  {
   "cell_type": "code",
   "execution_count": 55,
   "metadata": {},
   "outputs": [
    {
     "name": "stdout",
     "output_type": "stream",
     "text": [
      "{'max_depth': 8, 'max_features': 10, 'min_samples_leaf': 15}\n",
      "Accuracy: 87.66666666666667\n"
     ]
    },
    {
     "data": {
      "text/html": [
       "<style>#sk-container-id-16 {color: black;background-color: white;}#sk-container-id-16 pre{padding: 0;}#sk-container-id-16 div.sk-toggleable {background-color: white;}#sk-container-id-16 label.sk-toggleable__label {cursor: pointer;display: block;width: 100%;margin-bottom: 0;padding: 0.3em;box-sizing: border-box;text-align: center;}#sk-container-id-16 label.sk-toggleable__label-arrow:before {content: \"▸\";float: left;margin-right: 0.25em;color: #696969;}#sk-container-id-16 label.sk-toggleable__label-arrow:hover:before {color: black;}#sk-container-id-16 div.sk-estimator:hover label.sk-toggleable__label-arrow:before {color: black;}#sk-container-id-16 div.sk-toggleable__content {max-height: 0;max-width: 0;overflow: hidden;text-align: left;background-color: #f0f8ff;}#sk-container-id-16 div.sk-toggleable__content pre {margin: 0.2em;color: black;border-radius: 0.25em;background-color: #f0f8ff;}#sk-container-id-16 input.sk-toggleable__control:checked~div.sk-toggleable__content {max-height: 200px;max-width: 100%;overflow: auto;}#sk-container-id-16 input.sk-toggleable__control:checked~label.sk-toggleable__label-arrow:before {content: \"▾\";}#sk-container-id-16 div.sk-estimator input.sk-toggleable__control:checked~label.sk-toggleable__label {background-color: #d4ebff;}#sk-container-id-16 div.sk-label input.sk-toggleable__control:checked~label.sk-toggleable__label {background-color: #d4ebff;}#sk-container-id-16 input.sk-hidden--visually {border: 0;clip: rect(1px 1px 1px 1px);clip: rect(1px, 1px, 1px, 1px);height: 1px;margin: -1px;overflow: hidden;padding: 0;position: absolute;width: 1px;}#sk-container-id-16 div.sk-estimator {font-family: monospace;background-color: #f0f8ff;border: 1px dotted black;border-radius: 0.25em;box-sizing: border-box;margin-bottom: 0.5em;}#sk-container-id-16 div.sk-estimator:hover {background-color: #d4ebff;}#sk-container-id-16 div.sk-parallel-item::after {content: \"\";width: 100%;border-bottom: 1px solid gray;flex-grow: 1;}#sk-container-id-16 div.sk-label:hover label.sk-toggleable__label {background-color: #d4ebff;}#sk-container-id-16 div.sk-serial::before {content: \"\";position: absolute;border-left: 1px solid gray;box-sizing: border-box;top: 0;bottom: 0;left: 50%;z-index: 0;}#sk-container-id-16 div.sk-serial {display: flex;flex-direction: column;align-items: center;background-color: white;padding-right: 0.2em;padding-left: 0.2em;position: relative;}#sk-container-id-16 div.sk-item {position: relative;z-index: 1;}#sk-container-id-16 div.sk-parallel {display: flex;align-items: stretch;justify-content: center;background-color: white;position: relative;}#sk-container-id-16 div.sk-item::before, #sk-container-id-16 div.sk-parallel-item::before {content: \"\";position: absolute;border-left: 1px solid gray;box-sizing: border-box;top: 0;bottom: 0;left: 50%;z-index: -1;}#sk-container-id-16 div.sk-parallel-item {display: flex;flex-direction: column;z-index: 1;position: relative;background-color: white;}#sk-container-id-16 div.sk-parallel-item:first-child::after {align-self: flex-end;width: 50%;}#sk-container-id-16 div.sk-parallel-item:last-child::after {align-self: flex-start;width: 50%;}#sk-container-id-16 div.sk-parallel-item:only-child::after {width: 0;}#sk-container-id-16 div.sk-dashed-wrapped {border: 1px dashed gray;margin: 0 0.4em 0.5em 0.4em;box-sizing: border-box;padding-bottom: 0.4em;background-color: white;}#sk-container-id-16 div.sk-label label {font-family: monospace;font-weight: bold;display: inline-block;line-height: 1.2em;}#sk-container-id-16 div.sk-label-container {text-align: center;}#sk-container-id-16 div.sk-container {/* jupyter's `normalize.less` sets `[hidden] { display: none; }` but bootstrap.min.css set `[hidden] { display: none !important; }` so we also need the `!important` here to be able to override the default hidden behavior on the sphinx rendered scikit-learn.org. See: https://github.com/scikit-learn/scikit-learn/issues/21755 */display: inline-block !important;position: relative;}#sk-container-id-16 div.sk-text-repr-fallback {display: none;}</style><div id=\"sk-container-id-16\" class=\"sk-top-container\"><div class=\"sk-text-repr-fallback\"><pre>DecisionTreeClassifier(max_depth=12, max_features=8, min_samples_leaf=20)</pre><b>In a Jupyter environment, please rerun this cell to show the HTML representation or trust the notebook. <br />On GitHub, the HTML representation is unable to render, please try loading this page with nbviewer.org.</b></div><div class=\"sk-container\" hidden><div class=\"sk-item\"><div class=\"sk-estimator sk-toggleable\"><input class=\"sk-toggleable__control sk-hidden--visually\" id=\"sk-estimator-id-16\" type=\"checkbox\" checked><label for=\"sk-estimator-id-16\" class=\"sk-toggleable__label sk-toggleable__label-arrow\">DecisionTreeClassifier</label><div class=\"sk-toggleable__content\"><pre>DecisionTreeClassifier(max_depth=12, max_features=8, min_samples_leaf=20)</pre></div></div></div></div></div>"
      ],
      "text/plain": [
       "DecisionTreeClassifier(max_depth=12, max_features=8, min_samples_leaf=20)"
      ]
     },
     "execution_count": 55,
     "metadata": {},
     "output_type": "execute_result"
    }
   ],
   "source": [
    "clf = DecisionTreeClassifier(max_depth=12, max_features=8, min_samples_leaf=20)\n",
    "# clf = DecisionTreeClassifier()\n",
    "params = {'max_depth': [4, 6, 8, 10, 12], 'min_samples_leaf': [5, 10, 15, 20], 'max_features': [4, 6, 8, 10, 12]}\n",
    "grid_search = GridSearchCV(clf, params, cv = 10, scoring = 'accuracy')\n",
    "grid_search.fit(x_train_normalized, y_train)\n",
    "\n",
    "print(grid_search.best_params_)\n",
    "print(\"Accuracy:\", grid_search.best_score_*100)\n",
    "\n",
    "clf.fit(x_train_normalized, y_train)\n"
   ]
  },
  {
   "cell_type": "code",
   "execution_count": 56,
   "metadata": {},
   "outputs": [
    {
     "name": "stdout",
     "output_type": "stream",
     "text": [
      "(0.9143691659056865, 'WLPCT')\n",
      "(0.05253063290553241, 'PM')\n",
      "(0.013649039677921214, 'PTS')\n",
      "(0.009926574311215393, 'FG3PCT')\n",
      "(0.005128353537521887, 'FGM')\n"
     ]
    }
   ],
   "source": [
    "train_feature_names = x_train.columns\n",
    "\n",
    "dt_importances = clf.feature_importances_\n",
    "dt_importances = sorted(zip(dt_importances, train_feature_names), reverse=True)\n",
    "for i in range (5):\n",
    "    print (dt_importances[i])"
   ]
  },
  {
   "cell_type": "code",
   "execution_count": 57,
   "metadata": {},
   "outputs": [
    {
     "name": "stdout",
     "output_type": "stream",
     "text": [
      "Score for training data: 0.8833333333333333\n",
      "Score for testing data: 0.8666666666666667\n",
      "\n",
      "Predictions for which teams makes the playoffs for 2021 in the Eastern Conference\n",
      "\n",
      "   TEAM  PLAYOFF  PREDICTION  PROBABILITY\n",
      "0   ATL        1           1     1.000000\n",
      "1   BKN        1           1     1.000000\n",
      "2   BOS        1           1     1.000000\n",
      "3   CHA        0           1     1.000000\n",
      "8   MIA        1           1     1.000000\n",
      "9   MIL        1           1     1.000000\n",
      "10  NYK        1           1     1.000000\n",
      "12  PHI        1           1     1.000000\n",
      "4   CHI        0           0     0.181818\n",
      "7   IND        0           0     0.181818\n",
      "13  TOR        0           0     0.181818\n",
      "6   DET        0           0     0.068966\n",
      "11  ORL        0           0     0.068966\n",
      "14  WAS        1           0     0.068966\n",
      "5   CLE        0           0     0.000000\n"
     ]
    }
   ],
   "source": [
    "# Getting the score from the normalized x training and y trianing data.\n",
    "east_dt_train_score = clf.score(x_train_normalized, y_train)\n",
    "# east_logreg_train_score = east_logreg.score(x_train_normalized, y_train)\n",
    "# Printing out this score.\n",
    "print(\"Score for training data: \" + str(east_dt_train_score))\n",
    "# Getting the score from the normalized x testing and y testing data.\n",
    "east_dt_test_score = clf.score(x_test_normalized, y_test)\n",
    "# Printing out this score.\n",
    "print(\"Score for testing data: \" + str(east_dt_test_score))\n",
    "print()\n",
    "print(\"Predictions for which teams makes the playoffs for 2021 in the Eastern Conference\")\n",
    "print()\n",
    "# Getting the teams and whether they made it to the playoffs in our testing data. This will be the prediction that we would like to match.\n",
    "east_predictions_2021 = y_test_prediction[[\"TEAM\", \"PLAYOFF\"]]\n",
    "# Getting the probability of this predction, using the x data.\n",
    "dt_probability = clf.predict_proba(x_test_normalized)[:, 1].tolist()\n",
    "# rf_probability = rf.predict_proba(x_test_normalized)[:, 1].tolist()\n",
    "# Making a new predcition.\n",
    "dt_prediction = clf.predict(x_test_normalized).tolist()\n",
    "# Assinging the prediciotn value to the prediciotn colum in the list.\n",
    "east_predictions_2021[\"PREDICTION\"] = dt_prediction\n",
    "# Assigning the probabilities to the column in the list..\n",
    "east_predictions_2021[\"PROBABILITY\"] = dt_probability\n",
    "# Sorting the list according to the porbability values.\n",
    "east_predictions_2021 = east_predictions_2021.sort_values(\"PROBABILITY\", ascending=False)\n",
    "print(east_predictions_2021)"
   ]
  }
 ],
 "metadata": {
  "kernelspec": {
   "display_name": "Python 3",
   "language": "python",
   "name": "python3"
  },
  "language_info": {
   "codemirror_mode": {
    "name": "ipython",
    "version": 3
   },
   "file_extension": ".py",
   "mimetype": "text/x-python",
   "name": "python",
   "nbconvert_exporter": "python",
   "pygments_lexer": "ipython3",
   "version": "3.9.7"
  },
  "orig_nbformat": 4
 },
 "nbformat": 4,
 "nbformat_minor": 2
}
